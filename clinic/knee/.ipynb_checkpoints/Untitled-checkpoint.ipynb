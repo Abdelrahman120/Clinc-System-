{
 "cells": [
  {
   "cell_type": "code",
   "execution_count": null,
   "id": "95b286a0",
   "metadata": {},
   "outputs": [
    {
     "name": "stdout",
     "output_type": "stream",
     "text": [
      " * Serving Flask app \"__main__\" (lazy loading)\n",
      " * Environment: production\n",
      "\u001b[31m   WARNING: This is a development server. Do not use it in a production deployment.\u001b[0m\n",
      "\u001b[2m   Use a production WSGI server instead.\u001b[0m\n",
      " * Debug mode: on\n"
     ]
    },
    {
     "name": "stderr",
     "output_type": "stream",
     "text": [
      " * Running on http://127.0.0.1:5000/ (Press CTRL+C to quit)\n",
      "127.0.0.1 - - [14/Sep/2022 18:48:02] \"GET / HTTP/1.1\" 200 -\n"
     ]
    },
    {
     "name": "stdout",
     "output_type": "stream",
     "text": [
      "nn\n",
      "1/1 [==============================] - 0s 129ms/step\n",
      "1/1 [==============================] - 0s 65ms/step\n"
     ]
    },
    {
     "name": "stderr",
     "output_type": "stream",
     "text": [
      "127.0.0.1 - - [14/Sep/2022 18:48:06] \"POST /predict HTTP/1.1\" 200 -\n"
     ]
    },
    {
     "name": "stdout",
     "output_type": "stream",
     "text": [
      "[[9.99826014e-01 3.04068814e-17 3.01163682e-14 1.05904976e-20\n",
      "  1.74008426e-04]]\n",
      "0\n",
      "Normal\n",
      "nn\n",
      "1/1 [==============================] - 0s 63ms/step\n",
      "1/1 [==============================] - 0s 71ms/step\n"
     ]
    },
    {
     "name": "stderr",
     "output_type": "stream",
     "text": [
      "127.0.0.1 - - [14/Sep/2022 18:48:13] \"POST /predict HTTP/1.1\" 200 -\n"
     ]
    },
    {
     "name": "stdout",
     "output_type": "stream",
     "text": [
      "[[4.054246e-08 9.999846e-01 1.344484e-05 1.044827e-12 1.924978e-06]]\n",
      "1\n",
      "Doubtful\n",
      "nn\n",
      "1/1 [==============================] - 0s 58ms/step\n",
      "1/1 [==============================] - 0s 60ms/step\n"
     ]
    },
    {
     "name": "stderr",
     "output_type": "stream",
     "text": [
      "127.0.0.1 - - [14/Sep/2022 18:48:20] \"POST /predict HTTP/1.1\" 200 -\n"
     ]
    },
    {
     "name": "stdout",
     "output_type": "stream",
     "text": [
      "[[1.0193247e-11 9.3784258e-13 2.3514409e-11 7.1260136e-09 1.0000000e+00]]\n",
      "4\n",
      "Severe\n",
      "nn\n",
      "1/1 [==============================] - 0s 58ms/step\n",
      "1/1 [==============================] - 0s 62ms/step\n"
     ]
    },
    {
     "name": "stderr",
     "output_type": "stream",
     "text": [
      "127.0.0.1 - - [14/Sep/2022 18:48:28] \"POST /predict HTTP/1.1\" 200 -\n"
     ]
    },
    {
     "name": "stdout",
     "output_type": "stream",
     "text": [
      "[[3.8761134e-12 9.9996924e-01 2.1580154e-05 2.3274843e-10 9.1642378e-06]]\n",
      "1\n",
      "Doubtful\n",
      "nn\n",
      "1/1 [==============================] - 0s 58ms/step\n",
      "1/1 [==============================] - 0s 59ms/step\n"
     ]
    },
    {
     "name": "stderr",
     "output_type": "stream",
     "text": [
      "127.0.0.1 - - [14/Sep/2022 18:48:36] \"POST /predict HTTP/1.1\" 200 -\n"
     ]
    },
    {
     "name": "stdout",
     "output_type": "stream",
     "text": [
      "[[6.5031111e-02 9.5546637e-09 9.3289472e-08 1.4001673e-01 7.9495203e-01]]\n",
      "4\n",
      "Severe\n",
      "nn\n",
      "1/1 [==============================] - 0s 58ms/step\n",
      "1/1 [==============================] - 0s 60ms/step\n"
     ]
    },
    {
     "name": "stderr",
     "output_type": "stream",
     "text": [
      "127.0.0.1 - - [14/Sep/2022 18:48:42] \"POST /predict HTTP/1.1\" 200 -\n"
     ]
    },
    {
     "name": "stdout",
     "output_type": "stream",
     "text": [
      "[[9.9998987e-01 1.0084630e-05 1.1253999e-08 4.7538942e-13 5.9716748e-10]]\n",
      "0\n",
      "Normal\n",
      "nn\n",
      "1/1 [==============================] - 0s 57ms/step\n",
      "1/1 [==============================] - 0s 58ms/step\n"
     ]
    },
    {
     "name": "stderr",
     "output_type": "stream",
     "text": [
      "127.0.0.1 - - [14/Sep/2022 18:48:48] \"POST /predict HTTP/1.1\" 200 -\n"
     ]
    },
    {
     "name": "stdout",
     "output_type": "stream",
     "text": [
      "[[1.0193247e-11 9.3784258e-13 2.3514409e-11 7.1260136e-09 1.0000000e+00]]\n",
      "4\n",
      "Severe\n",
      "nn\n",
      "1/1 [==============================] - 0s 62ms/step\n",
      "1/1 [==============================] - 0s 58ms/step\n"
     ]
    },
    {
     "name": "stderr",
     "output_type": "stream",
     "text": [
      "127.0.0.1 - - [14/Sep/2022 18:48:52] \"POST /predict HTTP/1.1\" 200 -\n"
     ]
    },
    {
     "name": "stdout",
     "output_type": "stream",
     "text": [
      "[[5.5351911e-08 2.5983292e-05 5.3239692e-06 2.5080869e-04 9.9971777e-01]]\n",
      "4\n",
      "Severe\n",
      "nn\n",
      "1/1 [==============================] - 0s 58ms/step\n",
      "1/1 [==============================] - 0s 62ms/step\n"
     ]
    },
    {
     "name": "stderr",
     "output_type": "stream",
     "text": [
      "127.0.0.1 - - [14/Sep/2022 18:48:57] \"POST /predict HTTP/1.1\" 200 -\n"
     ]
    },
    {
     "name": "stdout",
     "output_type": "stream",
     "text": [
      "[[6.5031111e-02 9.5546637e-09 9.3289472e-08 1.4001673e-01 7.9495203e-01]]\n",
      "4\n",
      "Severe\n",
      "nn\n",
      "1/1 [==============================] - 0s 57ms/step\n",
      "1/1 [==============================] - 0s 60ms/step\n"
     ]
    },
    {
     "name": "stderr",
     "output_type": "stream",
     "text": [
      "127.0.0.1 - - [14/Sep/2022 18:49:02] \"POST /predict HTTP/1.1\" 200 -\n"
     ]
    },
    {
     "name": "stdout",
     "output_type": "stream",
     "text": [
      "[[9.9995756e-01 1.3753114e-06 9.8035052e-06 1.6935108e-07 3.1123785e-05]]\n",
      "0\n",
      "Normal\n",
      "nn\n",
      "1/1 [==============================] - 0s 58ms/step\n",
      "1/1 [==============================] - 0s 59ms/step\n"
     ]
    },
    {
     "name": "stderr",
     "output_type": "stream",
     "text": [
      "127.0.0.1 - - [14/Sep/2022 18:49:06] \"POST /predict HTTP/1.1\" 200 -\n"
     ]
    },
    {
     "name": "stdout",
     "output_type": "stream",
     "text": [
      "[[4.054246e-08 9.999846e-01 1.344484e-05 1.044827e-12 1.924978e-06]]\n",
      "1\n",
      "Doubtful\n",
      "nn\n",
      "1/1 [==============================] - 0s 58ms/step\n",
      "1/1 [==============================] - 0s 66ms/step\n"
     ]
    },
    {
     "name": "stderr",
     "output_type": "stream",
     "text": [
      "127.0.0.1 - - [14/Sep/2022 18:49:13] \"POST /predict HTTP/1.1\" 200 -\n"
     ]
    },
    {
     "name": "stdout",
     "output_type": "stream",
     "text": [
      "[[3.8761134e-12 9.9996924e-01 2.1580154e-05 2.3274843e-10 9.1642378e-06]]\n",
      "1\n",
      "Doubtful\n",
      "nn\n",
      "1/1 [==============================] - 0s 58ms/step\n",
      "1/1 [==============================] - 0s 61ms/step\n"
     ]
    },
    {
     "name": "stderr",
     "output_type": "stream",
     "text": [
      "127.0.0.1 - - [14/Sep/2022 18:49:19] \"POST /predict HTTP/1.1\" 200 -\n"
     ]
    },
    {
     "name": "stdout",
     "output_type": "stream",
     "text": [
      "[[4.054246e-08 9.999846e-01 1.344484e-05 1.044827e-12 1.924978e-06]]\n",
      "1\n",
      "Doubtful\n",
      "nn\n",
      "1/1 [==============================] - 0s 58ms/step\n",
      "1/1 [==============================] - 0s 62ms/step\n"
     ]
    },
    {
     "name": "stderr",
     "output_type": "stream",
     "text": [
      "127.0.0.1 - - [14/Sep/2022 18:49:24] \"POST /predict HTTP/1.1\" 200 -\n"
     ]
    },
    {
     "name": "stdout",
     "output_type": "stream",
     "text": [
      "[[4.9990335e-01 1.6005785e-04 4.9373214e-03 3.3398110e-02 4.6160114e-01]]\n",
      "0\n",
      "Normal\n",
      "nn\n",
      "1/1 [==============================] - 0s 62ms/step\n",
      "1/1 [==============================] - 0s 62ms/step\n"
     ]
    },
    {
     "name": "stderr",
     "output_type": "stream",
     "text": [
      "127.0.0.1 - - [14/Sep/2022 18:49:29] \"POST /predict HTTP/1.1\" 200 -\n"
     ]
    },
    {
     "name": "stdout",
     "output_type": "stream",
     "text": [
      "[[2.8268007e-06 1.1993933e-07 2.7423562e-03 9.9640381e-01 8.5095922e-04]]\n",
      "3\n",
      "Moderate\n",
      "nn\n",
      "1/1 [==============================] - 0s 59ms/step\n",
      "1/1 [==============================] - 0s 59ms/step\n"
     ]
    },
    {
     "name": "stderr",
     "output_type": "stream",
     "text": [
      "127.0.0.1 - - [14/Sep/2022 18:49:34] \"POST /predict HTTP/1.1\" 200 -\n"
     ]
    },
    {
     "name": "stdout",
     "output_type": "stream",
     "text": [
      "[[9.99826014e-01 3.04068814e-17 3.01163682e-14 1.05904976e-20\n",
      "  1.74008426e-04]]\n",
      "0\n",
      "Normal\n",
      "nn\n",
      "1/1 [==============================] - 0s 58ms/step\n",
      "1/1 [==============================] - 0s 60ms/step\n"
     ]
    },
    {
     "name": "stderr",
     "output_type": "stream",
     "text": [
      "127.0.0.1 - - [14/Sep/2022 18:49:38] \"POST /predict HTTP/1.1\" 200 -\n"
     ]
    },
    {
     "name": "stdout",
     "output_type": "stream",
     "text": [
      "[[9.9998987e-01 1.0084630e-05 1.1253999e-08 4.7538942e-13 5.9716748e-10]]\n",
      "0\n",
      "Normal\n"
     ]
    }
   ],
   "source": [
    "from flask import Flask, render_template, request\n",
    "from keras.models import load_model\n",
    "from keras.models import Sequential\n",
    "from keras.preprocessing import image\n",
    "import cv2\n",
    "import tensorflow as tf\n",
    "import numpy as np\n",
    "\n",
    "from keras.utils.image_utils import img_to_array\n",
    "apps = Flask(__name__,template_folder='template')\n",
    "dic = {0 : 'Normal', 1 : 'Doubtful', 2 : 'Mild', 3 : 'Moderate', 4 : 'Severe'}\n",
    "\n",
    "\n",
    "#Image Size\n",
    "img_size=256\n",
    "model2 = load_model('model.h5')\n",
    "model=Sequential()\n",
    "model.make_predict_function()\n",
    "\n",
    "def predict_label(img_path):\n",
    "    img=cv2.imread(img_path)\n",
    "    gray = cv2.cvtColor(img, cv2.COLOR_BGR2GRAY)  \n",
    "    resized=cv2.resize(gray,(img_size,img_size)) \n",
    "    i =img_to_array(resized)/255.0\n",
    "    i = i.reshape(1,img_size,img_size,1)\n",
    "    p = np.argmax(model2.predict(i))\n",
    "    print(model2.predict(i))\n",
    "    print(p)\n",
    "    return dic[p]\n",
    "\n",
    "\n",
    "# routes\n",
    "@apps.route(\"/\", methods=['GET', 'POST'])\n",
    "def main():\n",
    "    \n",
    "    return render_template('index.html')\n",
    "\n",
    "@apps.route(\"/about\")\n",
    "def about_page():\n",
    "\n",
    "    return \"thank you!!!\"\n",
    "\n",
    "@apps.route(\"/predict\", methods = ['GET', 'POST'])\n",
    "def upload():\n",
    "    print(\"nn\")\n",
    "    if request.method == 'POST':\n",
    "       img = request.files['file']\n",
    "       img_path = \"uploads/\" + img.filename    \n",
    "       img.save(img_path)\n",
    "       p= predict_label(img_path)\n",
    "       print(p)\n",
    "       return str(p).lower()\n",
    "    return 'ok'   \n",
    "\n",
    "  \n",
    "\n",
    "\n",
    "if __name__ =='__main__':\n",
    "    #app.debug = True\n",
    "    apps.run(debug= True, use_reloader=False)"
   ]
  },
  {
   "cell_type": "code",
   "execution_count": null,
   "id": "0d329f98",
   "metadata": {},
   "outputs": [],
   "source": []
  },
  {
   "cell_type": "code",
   "execution_count": null,
   "id": "2a86688e",
   "metadata": {},
   "outputs": [],
   "source": []
  }
 ],
 "metadata": {
  "kernelspec": {
   "display_name": "Python 3 (ipykernel)",
   "language": "python",
   "name": "python3"
  },
  "language_info": {
   "codemirror_mode": {
    "name": "ipython",
    "version": 3
   },
   "file_extension": ".py",
   "mimetype": "text/x-python",
   "name": "python",
   "nbconvert_exporter": "python",
   "pygments_lexer": "ipython3",
   "version": "3.9.7"
  }
 },
 "nbformat": 4,
 "nbformat_minor": 5
}
